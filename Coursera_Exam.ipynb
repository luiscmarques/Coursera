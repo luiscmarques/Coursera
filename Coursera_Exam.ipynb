{
  "metadata": {
    "kernelspec": {
      "name": "python",
      "display_name": "Python (Pyodide)",
      "language": "python"
    },
    "language_info": {
      "codemirror_mode": {
        "name": "python",
        "version": 3
      },
      "file_extension": ".py",
      "mimetype": "text/x-python",
      "name": "python",
      "nbconvert_exporter": "python",
      "pygments_lexer": "ipython3",
      "version": "3.8"
    }
  },
  "nbformat_minor": 4,
  "nbformat": 4,
  "cells": [
    {
      "cell_type": "markdown",
      "source": "# Coursera_Exam",
      "metadata": {}
    },
    {
      "cell_type": "markdown",
      "source": "## Hello!!! this is an introductory sentence for my Jupyter notebook",
      "metadata": {}
    },
    {
      "cell_type": "markdown",
      "source": "### List data science languages:\n1. Python\n2. Java\n3. C++\n4. C  ",
      "metadata": {}
    },
    {
      "cell_type": "markdown",
      "source": "### List data science libraries:\n1. Pandas\n2. Numpy\n3. Scikit-learn\n4. TensorFlow\n5. PyTorch",
      "metadata": {}
    },
    {
      "cell_type": "markdown",
      "source": "### Table of data Science tools\n\n|Data Science tools |\n| ------ |\n| Jupyter Notebook |\n|Tableau |\n| Google Analytics |\n| KNIME |",
      "metadata": {}
    },
    {
      "cell_type": "markdown",
      "source": "### arithmetic expression example\n3 + 7",
      "metadata": {}
    },
    {
      "cell_type": "code",
      "source": "3*7+10",
      "metadata": {
        "trusted": true
      },
      "outputs": [
        {
          "execution_count": 7,
          "output_type": "execute_result",
          "data": {
            "text/plain": "31"
          },
          "metadata": {}
        }
      ],
      "execution_count": 7
    },
    {
      "cell_type": "code",
      "source": "def convert_minutes_to_hours(minutes):\n    hours = minutes / 60\n    return hours\n\nprint(convert_minutes_to_hours(90))",
      "metadata": {
        "trusted": true
      },
      "outputs": [
        {
          "name": "stdout",
          "text": "1.5\n",
          "output_type": "stream"
        }
      ],
      "execution_count": 10
    },
    {
      "cell_type": "markdown",
      "source": "### cell to list objectives\n- pass this exam\n- get a new course in data science field\n- land a job/internship in the data science field\n- join a data science club, group, or community to expand your network",
      "metadata": {}
    },
    {
      "cell_type": "markdown",
      "source": "## Author\nLuis Marques",
      "metadata": {}
    },
    {
      "cell_type": "code",
      "source": "",
      "metadata": {
        "trusted": true
      },
      "outputs": [],
      "execution_count": null
    }
  ]
}